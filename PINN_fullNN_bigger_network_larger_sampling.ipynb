{
 "cells": [
  {
   "cell_type": "markdown",
   "metadata": {},
   "source": [
    "This notebook is only created for the purpose of training a modified Neural Network with more number of epochs\n",
    "\n",
    "**Result details**\n",
    "Network size increased\n",
    "point sampling size increased\n",
    "storing various loss terms"
   ]
  },
  {
   "cell_type": "code",
   "execution_count": 1,
   "metadata": {},
   "outputs": [
    {
     "name": "stderr",
     "output_type": "stream",
     "text": [
      "\u001b[32m\u001b[1m  Activating\u001b[22m\u001b[39m project at `c:\\MIT\\Courses\\6338-Parallel_computing_and_scientific_machine_learning\\project\\project_work_sciml\\project_work_sciml`\n"
     ]
    }
   ],
   "source": [
    "using Pkg\n",
    "Pkg.activate(\".\")"
   ]
  },
  {
   "cell_type": "code",
   "execution_count": 2,
   "metadata": {},
   "outputs": [],
   "source": [
    "using BenchmarkTools\n",
    "using Flux\n",
    "using StaticArrays\n",
    "using Parameters: @with_kw\n",
    "using Zygote\n",
    "using Plots\n",
    "using GLMakie\n",
    "using Makie\n",
    "using ProgressMeter\n",
    "using ForwardDiff\n",
    "using ZygoteRules\n",
    "using Flux: throttle\n",
    "using BSON: @save\n",
    "\n",
    "ZygoteRules.@adjoint function ForwardDiff.Dual{T}(x, ẋ::Tuple) where T\n",
    "  @assert length(ẋ) == 1\n",
    "  ForwardDiff.Dual{T}(x, ẋ), ḋ -> (ḋ.partials[1], (ḋ.value,))\n",
    "end\n",
    "ZygoteRules.@adjoint ZygoteRules.literal_getproperty(d::ForwardDiff.Dual{T}, ::Val{:partials}) where T =\n",
    "  d.partials, ṗ -> (ForwardDiff.Dual{T}(ṗ[1], 0),)\n",
    "ZygoteRules.@adjoint ZygoteRules.literal_getproperty(d::ForwardDiff.Dual{T}, ::Val{:value}) where T =\n",
    "  d.value, ẋ -> (ForwardDiff.Dual{T}(0, ẋ),)\n",
    "  Zygote.refresh()"
   ]
  },
  {
   "cell_type": "code",
   "execution_count": 3,
   "metadata": {},
   "outputs": [
    {
     "data": {
      "text/plain": [
       "4.0f0"
      ]
     },
     "execution_count": 3,
     "metadata": {},
     "output_type": "execute_result"
    }
   ],
   "source": [
    "#Parameter values:\n",
    "\n",
    "λ = 1f0 #1\n",
    "μ = 5f-1 #0.5\n",
    "Q = 4f0 #4"
   ]
  },
  {
   "cell_type": "code",
   "execution_count": 4,
   "metadata": {},
   "outputs": [
    {
     "data": {
      "text/plain": [
       "0.33333334f0"
      ]
     },
     "execution_count": 4,
     "metadata": {},
     "output_type": "execute_result"
    }
   ],
   "source": [
    "#Body forces:\n",
    "\n",
    "@inline fxf(x,y) = λ*(4f0π^2f0*cos(2f0π*x)*sin(π*y)-π*cos(π*x)*Q*y^3)+μ*(9f0π^2f0*cos(2f0π*x)*sin(π*y)-π*cos(π*x)*Q*y^3)\n",
    "@inline fyf(x,y) = λ*(-3f0*sin(π*x)*Q*y^2f0+2f0π^2f0*sin(2f0π*x)*cos(π*y))+μ*(-6f0*sin(π*x)*Q*y^2f0+2f0π^2f0*sin(2f0π*x)*cos(π*x)+π^2f0*sin(π*x)*Q*y^4f0/4f0)\n",
    "\n",
    "#Corresponding displacement functions\n",
    "@inline uxf(x,y)=cos(2f0π*x)*sin(π*y)\n",
    "@inline uyf(x,y)=sin(π*x)*Q*y^4/4\n",
    "\n",
    "#Dependent material properties\n",
    "m_mat = @SMatrix [(λ+2f0*μ) λ 0; λ (λ+2f0*μ) 0; 0 0 2f0*μ] \n",
    "E = μ*(3f0*λ+2f0*μ)/(λ+μ) #young's modulus\n",
    "ν = λ/2f0/(λ+μ) #poisson's ratio\n"
   ]
  },
  {
   "cell_type": "code",
   "execution_count": 5,
   "metadata": {},
   "outputs": [],
   "source": [
    "#Data generation by sampling the 1x1 domain\n",
    "num_p = 1600 #need to be (n::Int)²\n",
    "nxny = Int(sqrt(num_p))\n",
    "#Empty initialized vectors for storing the true solution data\n",
    "loc_xy=Vector{typeof(@SVector [1f0,1f0] )}(undef,num_p)\n",
    "ut = Vector{typeof(@SVector [1f0,1f0] )}(undef,num_p)\n",
    "ft = Vector{typeof(@SVector [1f0,1f0] )}(undef,num_p)\n",
    "\n",
    "σt = Vector{typeof(@SVector [1f0,1f0,1f0] )}(undef,num_p) \n",
    "uxydxy_temp = Array{Float32}(undef,2,2)\n",
    "ξ_temp = Vector{Float32}(undef,3)\n",
    "uxydxyf(x,y) = vcat(transpose(collect(Zygote.gradient(uxf,x,y))),transpose(collect(Zygote.gradient(uyf,x,y))))\n",
    "for (ic,i) in enumerate(0:oftype(1f0,1/(nxny-1)):1)\n",
    "    for (jc,j) in enumerate(0:oftype(1f0,1/(nxny-1)):1)\n",
    "        loc_xy[(ic-1)*nxny+jc] = @SVector [i,j]\n",
    "        ut[(ic-1)*nxny+jc] = [uxf(i,j),uyf(i,j)]\n",
    "        ft[(ic-1)*nxny+jc] = [fxf(i,j),fyf(i,j)]\n",
    "        uxydxy_temp=uxydxyf(i,j)\n",
    "        ξ_temp = [uxydxy_temp[1,1],uxydxy_temp[2,2],(uxydxy_temp[2,1]+uxydxy_temp[1,2])/2]\n",
    "        σt[(ic-1)*nxny+jc] = m_mat*ξ_temp\n",
    "    end \n",
    "end"
   ]
  },
  {
   "cell_type": "code",
   "execution_count": null,
   "metadata": {},
   "outputs": [],
   "source": [
    "#Plots.scatter([loc_xy[i][1] for i in 1:length(loc_xy)],[loc_xy[i][2] for i in 1:length(loc_xy)],legend=false)"
   ]
  },
  {
   "cell_type": "code",
   "execution_count": null,
   "metadata": {},
   "outputs": [],
   "source": [
    "#plot check of the true stress, strains and displacements\n",
    "\n",
    "#joint_limits = (-2, 2)\n",
    "#fig, ax1, hm1 = Makie.heatmap(0:1/(nxny-1):1,0:1/(nxny-1):1,[σt[(i-1)*nxny+j][1] for i in 1:nxny, j in 1:nxny], colorrange = joint_limits)\n",
    "#ax2, hm2 = Makie.heatmap(fig[1, end+1], 0:1/(nxny-1):1, 0:1/(nxny-1):1, [σt[(i-1)*nxny+j][2] for i in 1:nxny, j in 1:nxny], colorrange = joint_limits)\n",
    "#ax3, hm3 = Makie.heatmap(fig[1, end+1], 0:1/(nxny-1):1, 0:1/(nxny-1):1, [σt[(i-1)*nxny+j][3] for i in 1:nxny, j in 1:nxny], colorrange = joint_limits)\n",
    "#heatmap(loc_xy[i][1],[loc_xy[i][2] for i in 1:length(loc_xy)],[σt[i][2] for i in 1:length(σt)])\n",
    "#[ for i in 1:nxny, for j in 1:nxny]\n",
    "\n",
    "\n",
    "#Colorbar(fig[:, end+1], colorrange = joint_limits)  # equivalent\n",
    "\n",
    "#fig"
   ]
  },
  {
   "cell_type": "code",
   "execution_count": 6,
   "metadata": {},
   "outputs": [
    {
     "data": {
      "text/plain": [
       "PINN_loss! (generic function with 1 method)"
      ]
     },
     "execution_count": 6,
     "metadata": {},
     "output_type": "execute_result"
    }
   ],
   "source": [
    "#Creating the neural network\n",
    "\n",
    "\n",
    "function build_model(;inp_sz=2,out_sz=5)\n",
    "    return Chain(\n",
    "        Dense(inp_sz,15),\n",
    "        BatchNorm(15,relu),\n",
    "        Dense(15,30),\n",
    "        BatchNorm(30,relu),\n",
    "        Dense(30,30),\n",
    "        BatchNorm(30,relu),\n",
    "        Dense(30,5),\n",
    "        BatchNorm(5)\n",
    "    )\n",
    "end\n",
    "m = build_model()\n",
    "\n",
    "#mgrad_temp = Array{Float64}(undef,5,2)\n",
    "#dξ_temp = Vector{Float64}(undef,10) \n",
    "model_grad(x) = ForwardDiff.jacobian(m,x)\n",
    "function PINN_loss!(uσ_loss, model,ft,m_mat,x,yt)\n",
    "    #x - vector of input values at which the loss evaluation is required\n",
    "    #yt- vector of true values corresponding to the input values x \n",
    "    #model - NN model\n",
    "    y = model(x)\n",
    "    uσ_loss = mean(abs.(y-yt),dims=2)\n",
    "    comp_loss = Flux.Losses.mae(y,yt,agg=mean)\n",
    "    #mgrad_temp = Zygote.Buffer(x,5,2)\n",
    "    mgrad_temp = ForwardDiff.jacobian(model,x)\n",
    "    strain = [mgrad_temp[1,1],mgrad_temp[2,2],(mgrad_temp[1,2]+mgrad_temp[2,1])/2f0]\n",
    "    phy_loss = abs(mgrad_temp[3,1]+mgrad_temp[5,2]+fxf(x[1],x[2])) + abs(mgrad_temp[4,2]+mgrad_temp[5,1]+fxf(x[1],x[2])) + sum(abs.(y[3:5]-m_mat*strain))\n",
    "\n",
    "    return comp_loss +phy_loss\n",
    "end\n",
    "    \n",
    "\n"
   ]
  },
  {
   "cell_type": "code",
   "execution_count": 7,
   "metadata": {},
   "outputs": [
    {
     "data": {
      "text/plain": [
       "loss (generic function with 1 method)"
      ]
     },
     "execution_count": 7,
     "metadata": {},
     "output_type": "execute_result"
    }
   ],
   "source": [
    "#Training parameters\n",
    "batchsize = 150   # batch size\n",
    "epochs = 3000       # number of epochs\n",
    "opt = ADAMW(1e-3)  # η - learning rate\n",
    "\n",
    "#preparing the data\n",
    "#X_train = loc_xy[i]' for i in 1:length(loc_xy)]\n",
    "X_train = reduce(vcat,transpose.(loc_xy))'\n",
    "Y_train = reduce(vcat,transpose.([vcat(ut[i],σt[i]) for i in 1:num_p]))'\n",
    "data = Flux.Data.DataLoader((X_train, Y_train), batchsize=40,shuffle=true);\n",
    "#building the model\n",
    "\n",
    "uσ_loss_stor = Vector{typeof(@SVector [0f0,0f0,0f0,0f0,0f0])}(undef,epochs)\n",
    "fill!(uσ_loss_stor,@SVector [0f0,0f0,0f0,0f0,0f0])\n",
    "uσc=1\n",
    "loss(x,yt) = PINN_loss!(uσ_loss_stor[uσc],m,ft,m_mat,x,yt)\n"
   ]
  },
  {
   "cell_type": "code",
   "execution_count": 8,
   "metadata": {},
   "outputs": [
    {
     "data": {
      "text/plain": [
       "my_custom_train! (generic function with 1 method)"
      ]
     },
     "execution_count": 8,
     "metadata": {},
     "output_type": "execute_result"
    }
   ],
   "source": [
    "loss_store = Vector{Float32}(undef,epochs)\n",
    "\n",
    "evalcb = throttle(30) do \n",
    "  @save \"loss_history.bson\" loss_store\n",
    "  @save \"model.bson\" m\n",
    "end; \n",
    "function my_custom_train!(loss, ps, data, opt, loss_store, epc,evalcb)\n",
    "  uσc=epc\n",
    "  dl=length(data)\n",
    "  for (ic,d) in enumerate(data)\n",
    "    train_loss, back = Zygote.pullback(() -> loss(d...), ps)\n",
    "    gs = back(one(train_loss))\n",
    "    #evalcb()\n",
    "    Flux.update!(opt, ps, gs)\n",
    "    loss_store[epc]+=train_loss/dl\n",
    "  end\n",
    "end"
   ]
  },
  {
   "cell_type": "code",
   "execution_count": 9,
   "metadata": {},
   "outputs": [
    {
     "name": "stderr",
     "output_type": "stream",
     "text": [
      "\u001b[32mProgress:   0%|█                                        |  ETA: 10:48:47\u001b[39m57\u001b[39m"
     ]
    }
   ],
   "source": [
    "ps = Flux.params(m)\n",
    "@showprogress for i in 1:epochs\n",
    "    #Flux.train!(loss, ps, data, opt)\n",
    "    my_custom_train!(loss, ps, data, opt, loss_store, i,evalcb )\n",
    "end\n",
    "#println(mean(m(real)),mean(m(fake))) # Print model prediction"
   ]
  },
  {
   "cell_type": "code",
   "execution_count": null,
   "metadata": {},
   "outputs": [],
   "source": [
    "#=\n",
    "ir(i)=i\n",
    "i=100\n",
    "ioutr(j)=ir(i)\n",
    "i=1\n",
    "for k in 1:10\n",
    "    i+=1\n",
    "    @show ioutr(1)\n",
    "end\n",
    "=#\n",
    "for d in data\n",
    "    size(d[1])\n",
    "     size(d[2])\n",
    "    #@show size(m(d[1]))\n",
    "    size(mean(abs.(m(d[1])-d[2]),dims=2))\n",
    "\n",
    "end\n"
   ]
  },
  {
   "cell_type": "code",
   "execution_count": null,
   "metadata": {},
   "outputs": [],
   "source": []
  },
  {
   "cell_type": "code",
   "execution_count": null,
   "metadata": {},
   "outputs": [],
   "source": [
    "σp = Vector{typeof(@SVector [1f0,1f0,1f0])}(undef,length(loc_xy))\n",
    "σp2 = Vector{typeof(@SVector [1f0,1f0,1f0])}(undef,length(loc_xy))\n",
    "σt2 = Vector{typeof(@SVector [1f0,1f0,1f0])}(undef,length(loc_xy))\n",
    "\n",
    "function data_sampler!(ff, comp, loc_xy)\n",
    "    for (i,loc) in enumerate(loc_xy)\n",
    "        ff[i]=m(cat(loc,dims=2))[comp]\n",
    "    end\n",
    "end\n",
    "function data_sampler(comp, loc_xy)\n",
    "    #comp - the components at which sampling is required - ex: 1 or 2 or 2:4\n",
    "    #loc_xy - A vector of vectors of the co-ordinate point locations.\n",
    "    out_vec = Vector{typeof(Float32.(ones(length(comp))))}(undef,length(loc_xy))\n",
    "    data_sampler!(out_vec, comp, loc_xy)\n",
    "    return out_vec\n",
    "end\n",
    "\n",
    "data_sampler!(σp, 3:5,loc_xy)"
   ]
  },
  {
   "cell_type": "code",
   "execution_count": null,
   "metadata": {},
   "outputs": [],
   "source": [
    "σp"
   ]
  },
  {
   "cell_type": "code",
   "execution_count": null,
   "metadata": {},
   "outputs": [],
   "source": [
    "[σp[(i-1)*nxny+j][1] for i in 1:nxny, j in 1:nxny]"
   ]
  },
  {
   "cell_type": "code",
   "execution_count": null,
   "metadata": {},
   "outputs": [],
   "source": [
    "#plot check of the true stress, strains and displacements\n",
    "\n",
    "joint_limits = (-2, 2)\n",
    "fig1, ax1, hm1 = Makie.heatmap(0:1/(nxny-1):1,0:1/(nxny-1):1,[σp[(i-1)*nxny+j][1] for i in 1:nxny, j in 1:nxny], colorrange = joint_limits)\n",
    "\n",
    "#heatmap(loc_xy[i][1],[loc_xy[i][2] for i in 1:length(loc_xy)],[σt[i][2] for i in 1:length(σt)])\n",
    "#[ for i in 1:nxny, for j in 1:nxny]\n",
    "\n",
    "\n",
    "Colorbar(fig1[:, end+1], colorrange = joint_limits)  # equivalent\n",
    "\n",
    "fig1"
   ]
  },
  {
   "cell_type": "code",
   "execution_count": null,
   "metadata": {},
   "outputs": [],
   "source": [
    "joint_limits = (-2, 2)\n",
    "fig, ax1, hm1 = Makie.heatmap(0:1/(nxny-1):1,0:1/(nxny-1):1,[σt[(i-1)*nxny+j][1] for i in 1:nxny, j in 1:nxny], colorrange = joint_limits)"
   ]
  },
  {
   "cell_type": "code",
   "execution_count": null,
   "metadata": {},
   "outputs": [],
   "source": [
    "#plot check of the true stress, strains and displacements\n",
    "\n",
    "joint_limits = (-2, 2)\n",
    "fig, ax1, hm1 = Makie.heatmap(0:1/(nxny-1):1,0:1/(nxny-1):1,[σp[(i-1)*nxny+j][3] for i in 1:nxny, j in 1:nxny], colorrange = joint_limits)\n",
    "ax2, hm2 = Makie.heatmap(fig[1, end+1], 0:1/(nxny-1):1, 0:1/(nxny-1):1, [σt[(i-1)*nxny+j][3] for i in 1:nxny, j in 1:nxny], colorrange = joint_limits)\n",
    "\n",
    "#heatmap(loc_xy[i][1],[loc_xy[i][2] for i in 1:length(loc_xy)],[σt[i][2] for i in 1:length(σt)])\n",
    "#[ for i in 1:nxny, for j in 1:nxny]\n",
    "\n",
    "\n",
    "Colorbar(fig[:, end+1], colorrange = joint_limits)  # equivalent\n",
    "\n",
    "fig"
   ]
  },
  {
   "cell_type": "code",
   "execution_count": null,
   "metadata": {},
   "outputs": [],
   "source": [
    "Plots.plot(loss_store)\n"
   ]
  },
  {
   "cell_type": "code",
   "execution_count": null,
   "metadata": {},
   "outputs": [],
   "source": [
    "function field_val_samp(num_p)\n",
    "    #Data generation by sampling the 1x1 domain\n",
    "    nxny = Int(sqrt(num_p))\n",
    "    #Empty initialized vectors for storing the true solution data\n",
    "    loc_xy=Vector{typeof(@SVector [1.0,1.0] )}(undef,num_p)\n",
    "    ut = Vector{typeof(@SVector [1.0,1.0] )}(undef,num_p)\n",
    "    ft = Vector{typeof(@SVector [1.0,1.0] )}(undef,num_p)\n",
    "    σt = Vector{typeof(@SVector [1.0,1.0,1.0] )}(undef,num_p) \n",
    "    uxydxy_temp = Array{Float64}(undef,2,2)\n",
    "    ξ_temp = Vector{Float64}(undef,3)\n",
    "    uxydxyf(x,y) = vcat(transpose(collect(Zygote.gradient(uxf,x,y))),transpose(collect(Zygote.gradient(uyf,x,y))))\n",
    "    for (ic,i) in enumerate(0:1/(nxny-1):1)\n",
    "        for (jc,j) in enumerate(0:1/(nxny-1):1)\n",
    "            loc_xy[(ic-1)*nxny+jc] = @SVector [i,j]\n",
    "            ut[(ic-1)*nxny+jc] = [uxf(i,j),uyf(i,j)]\n",
    "            ft[(ic-1)*nxny+jc] = [fxf(i,j),fyf(i,j)]\n",
    "            uxydxy_temp=uxydxyf(i,j)\n",
    "            ξ_temp = [uxydxy_temp[1,1],uxydxy_temp[2,2],(uxydxy_temp[2,1]+uxydxy_temp[1,2])/2]\n",
    "            σt[(ic-1)*nxny+jc] = m_mat*ξ_temp\n",
    "        end \n",
    "    end\n",
    "    return loc_xy, ut, ft, σt \n",
    "end\n",
    "\n",
    "num_p2 = 900 #need to be (n::Int)²\n",
    "loc_xy2, ut2, ft2, σt2 =field_val_samp(num_p2);"
   ]
  },
  {
   "cell_type": "code",
   "execution_count": null,
   "metadata": {},
   "outputs": [],
   "source": [
    "\n",
    "σp2 = data_sampler(3:5, loc_xy2);"
   ]
  },
  {
   "cell_type": "code",
   "execution_count": null,
   "metadata": {},
   "outputs": [],
   "source": [
    "#plot check of the true stress, strains and displacements\n",
    "\n",
    "joint_limits = (-2, 2)\n",
    "fig2, ax1, hm1 = Makie.heatmap(0:1/(nxny2-1):1,0:1/(nxny2-1):1,[σp2[(i-1)*nxny2+j][3] for i in 1:nxny2, j in 1:nxny2], colorrange = joint_limits)\n",
    "ax2, hm2 = Makie.heatmap(fig2[1, end+1], 0:1/(nxny2-1):1, 0:1/(nxny2-1):1, [σt2[(i-1)*nxny2+j][3] for i in 1:nxny2, j in 1:nxny2], colorrange = joint_limits)\n",
    "\n",
    "#heatmap(loc_xy[i][1],[loc_xy[i][2] for i in 1:length(loc_xy)],[σt[i][2] for i in 1:length(σt)])\n",
    "#[ for i in 1:nxny, for j in 1:nxny]\n",
    "\n",
    "\n",
    "Colorbar(fig[:, end+1], colorrange = joint_limits)  # equivalent\n",
    "fig2"
   ]
  },
  {
   "cell_type": "code",
   "execution_count": null,
   "metadata": {},
   "outputs": [],
   "source": [
    "function plot_field_comp(lrf,trf,comp,nxny)\n",
    "    #left plot - Learned distribution, right plot - Actual distribution\n",
    "    joint_limits = (-2, 2)\n",
    "    fig2, ax1, hm1 = Makie.heatmap(0:1/(nxny-1):1,0:1/(nxny-1):1,[lrf[(i-1)*nxny+j][comp] for i in 1:nxny, j in 1:nxny], colorrange = joint_limits)\n",
    "    ax2, hm2 = Makie.heatmap(fig2[1, end+1], 0:1/(nxny-1):1, 0:1/(nxny-1):1, [trf[(i-1)*nxny+j][comp] for i in 1:nxny, j in 1:nxny], colorrange = joint_limits)\n",
    "\n",
    "    Colorbar(fig[:, end+1], colorrange = joint_limits)  # equivalent\n",
    "    fig2\n",
    "    return fig2\n",
    "end\n",
    "up2 = data_sampler(1:2, loc_xy2)\n",
    "plot_field_comp(up2,ut2,2,nxny2)"
   ]
  },
  {
   "cell_type": "code",
   "execution_count": null,
   "metadata": {},
   "outputs": [],
   "source": []
  }
 ],
 "metadata": {
  "interpreter": {
   "hash": "a9d09e4ed1462c2ca4817368bdc2700a7ff967badfc243ba125fa1210077b6fb"
  },
  "kernelspec": {
   "display_name": "Julia 1.7.2",
   "language": "julia",
   "name": "julia-1.7"
  },
  "language_info": {
   "file_extension": ".jl",
   "mimetype": "application/julia",
   "name": "julia",
   "version": "1.7.2"
  },
  "orig_nbformat": 4
 },
 "nbformat": 4,
 "nbformat_minor": 2
}
